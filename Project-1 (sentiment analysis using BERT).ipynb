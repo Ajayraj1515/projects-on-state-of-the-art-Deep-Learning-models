{
 "cells": [
  {
   "cell_type": "code",
   "execution_count": null,
   "id": "4c6153c0",
   "metadata": {},
   "outputs": [],
   "source": [
    "!pip install transformers\n",
    "!pip install torch\n"
   ]
  },
  {
   "cell_type": "code",
   "execution_count": null,
   "id": "ed4f3770",
   "metadata": {},
   "outputs": [],
   "source": [
    "import torch\n",
    "from transformers import BertTokenizer, BertForSequenceClassification\n"
   ]
  },
  {
   "cell_type": "code",
   "execution_count": null,
   "id": "a3e55fe7",
   "metadata": {},
   "outputs": [],
   "source": [
    "tokenizer = BertTokenizer.from_pretrained('bert-base-uncased')\n",
    "model = BertForSequenceClassification.from_pretrained('bert-base-uncased')\n"
   ]
  },
  {
   "cell_type": "code",
   "execution_count": null,
   "id": "a6e60343",
   "metadata": {},
   "outputs": [],
   "source": [
    "def preprocess(text):\n",
    "    inputs = tokenizer(text, padding=True, truncation=True, return_tensors=\"pt\")\n",
    "    return inputs\n"
   ]
  },
  {
   "cell_type": "code",
   "execution_count": null,
   "id": "7679ec52",
   "metadata": {},
   "outputs": [],
   "source": [
    "def predict_sentiment(text):\n",
    "    inputs = preprocess(text)\n",
    "    outputs = model(**inputs)\n",
    "    logits = outputs[0]\n",
    "    probabilities = torch.softmax(logits, dim=1).tolist()[0]\n",
    "    positive_prob = probabilities[1]\n",
    "    negative_prob = probabilities[0]\n",
    "    if positive_prob > negative_prob:\n",
    "        return 'positive'\n",
    "    else:\n",
    "        return 'negative'\n"
   ]
  },
  {
   "cell_type": "code",
   "execution_count": null,
   "id": "774357f3",
   "metadata": {},
   "outputs": [],
   "source": [
    "text = \"This movie was fantastic! The acting was superb and the story kept me engaged from beginning to end.\"\n",
    "print(predict_sentiment(text))\n",
    "\n",
    "text = \"I really didn't enjoy this movie. The acting was wooden and the story was predictable.\"\n",
    "print(predict_sentiment(text))\n"
   ]
  },
  {
   "cell_type": "code",
   "execution_count": null,
   "id": "21ab1046",
   "metadata": {},
   "outputs": [],
   "source": [
    "positive\n",
    "negative\n"
   ]
  },
  {
   "cell_type": "code",
   "execution_count": null,
   "id": "28aaa951",
   "metadata": {},
   "outputs": [],
   "source": []
  },
  {
   "cell_type": "code",
   "execution_count": null,
   "id": "d42b0d74",
   "metadata": {},
   "outputs": [],
   "source": []
  },
  {
   "cell_type": "code",
   "execution_count": null,
   "id": "1601dd9b",
   "metadata": {},
   "outputs": [],
   "source": []
  },
  {
   "cell_type": "code",
   "execution_count": null,
   "id": "9274c983",
   "metadata": {},
   "outputs": [],
   "source": []
  }
 ],
 "metadata": {
  "kernelspec": {
   "display_name": "Python 3 (ipykernel)",
   "language": "python",
   "name": "python3"
  },
  "language_info": {
   "codemirror_mode": {
    "name": "ipython",
    "version": 3
   },
   "file_extension": ".py",
   "mimetype": "text/x-python",
   "name": "python",
   "nbconvert_exporter": "python",
   "pygments_lexer": "ipython3",
   "version": "3.9.12"
  }
 },
 "nbformat": 4,
 "nbformat_minor": 5
}
